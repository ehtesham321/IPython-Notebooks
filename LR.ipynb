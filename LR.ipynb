{
 "cells": [
  {
   "cell_type": "code",
   "execution_count": 23,
   "metadata": {
    "collapsed": false
   },
   "outputs": [
    {
     "data": {
      "image/png": "[encoded data removed]",
      "text/plain": [
       "<matplotlib.figure.Figure at 0x117b37910>"
      ]
     },
     "metadata": {},
     "output_type": "display_data"
    }
   ],
   "source": [
    "import numpy as np\n",
    "import matplotlib.pyplot as plt\n",
    "%matplotlib inline\n",
    "\n",
    "X = 2 * np.random.rand(100,1)\n",
    "y = .5 * -9*X + 19 + np.random.rand(100,1) \n",
    "plt.plot(X,y, 'r.')\n",
    "plt.show()\n"
   ]
  },
  {
   "cell_type": "code",
   "execution_count": 26,
   "metadata": {
    "collapsed": false
   },
   "outputs": [
    {
     "name": "stdout",
     "output_type": "stream",
     "text": [
      "[ 19.45437187]\n",
      "[[-4.46887199]]\n"
     ]
    }
   ],
   "source": [
    "#adding the X0 to the array X\n",
    "X_b = np.c_[np.ones((100,1)),X]\n",
    "\n",
    "from sklearn.linear_model import LinearRegression\n",
    "lin_regg = LinearRegression()\n",
    "lin_regg.fit(X,y)\n",
    "print lin_regg.intercept_\n",
    "print lin_regg.coef_\n"
   ]
  },
  {
   "cell_type": "code",
   "execution_count": 33,
   "metadata": {
    "collapsed": false
   },
   "outputs": [
    {
     "name": "stderr",
     "output_type": "stream",
     "text": [
      "/Users/ehtesham/anaconda/lib/python2.7/site-packages/sklearn/utils/validation.py:395: DeprecationWarning: Passing 1d arrays as data is deprecated in 0.17 and will raise ValueError in 0.19. Reshape your data either using X.reshape(-1, 1) if your data has a single feature or X.reshape(1, -1) if it contains a single sample.\n",
      "  DeprecationWarning)\n"
     ]
    },
    {
     "data": {
      "image/png": "[encoded data removed]",
      "text/plain": [
       "<matplotlib.figure.Figure at 0x119cd9e90>"
      ]
     },
     "metadata": {},
     "output_type": "display_data"
    }
   ],
   "source": [
    "#testing\n",
    "x_pred = X[0]*0.75\n",
    "y_pred = lin_regg.predict(x_pred)\n",
    "\n",
    "X = 2 * np.random.rand(100,1)\n",
    "y = .5 * -9*X + 19 + np.random.rand(100,1) \n",
    "plt.plot(x_pred,y_pred,'bo')\n",
    "plt.plot(X,y, 'r.')\n",
    "plt.show()\n"
   ]
  },
  {
   "cell_type": "code",
   "execution_count": 5,
   "metadata": {
    "collapsed": false
   },
   "outputs": [
    {
     "data": {
      "text/plain": [
       "array([[ 1.        ,  1.        ,  1.        ,  1.        ,  1.        ,\n",
       "         1.        ,  1.        ,  1.        ,  1.        ,  1.        ,\n",
       "         1.        ,  1.        ,  1.        ,  1.        ,  1.        ,\n",
       "         1.        ,  1.        ,  1.        ,  1.        ,  1.        ,\n",
       "         1.        ,  1.        ,  1.        ,  1.        ,  1.        ,\n",
       "         1.        ,  1.        ,  1.        ,  1.        ,  1.        ,\n",
       "         1.        ,  1.        ,  1.        ,  1.        ,  1.        ,\n",
       "         1.        ,  1.        ,  1.        ,  1.        ,  1.        ,\n",
       "         1.        ,  1.        ,  1.        ,  1.        ,  1.        ,\n",
       "         1.        ,  1.        ,  1.        ,  1.        ,  1.        ,\n",
       "         1.        ,  1.        ,  1.        ,  1.        ,  1.        ,\n",
       "         1.        ,  1.        ,  1.        ,  1.        ,  1.        ,\n",
       "         1.        ,  1.        ,  1.        ,  1.        ,  1.        ,\n",
       "         1.        ,  1.        ,  1.        ,  1.        ,  1.        ,\n",
       "         1.        ,  1.        ,  1.        ,  1.        ,  1.        ,\n",
       "         1.        ,  1.        ,  1.        ,  1.        ,  1.        ,\n",
       "         1.        ,  1.        ,  1.        ,  1.        ,  1.        ,\n",
       "         1.        ,  1.        ,  1.        ,  1.        ,  1.        ,\n",
       "         1.        ,  1.        ,  1.        ,  1.        ,  1.        ,\n",
       "         1.        ,  1.        ,  1.        ,  1.        ,  1.        ],\n",
       "       [ 1.79467883,  0.20783977,  0.88404947,  0.69307218,  1.1567278 ,\n",
       "         1.64404945,  1.41447404,  0.43803333,  0.53740826,  0.94259748,\n",
       "         0.49311705,  1.48538717,  1.79054051,  0.35639197,  1.34438359,\n",
       "         1.0316064 ,  1.09626113,  0.16926445,  1.12833551,  0.44764388,\n",
       "         0.08018895,  1.27519412,  1.07231434,  1.32649092,  1.54166595,\n",
       "         1.94864076,  1.25745794,  1.13207337,  0.236714  ,  0.10580658,\n",
       "         1.28298391,  0.97237206,  1.33353731,  0.91459207,  1.46253756,\n",
       "         0.33837366,  1.68770825,  1.09369584,  1.22251603,  1.41458429,\n",
       "         1.08735247,  1.1794105 ,  0.74078847,  0.21954559,  0.3406205 ,\n",
       "         1.72413851,  0.50542317,  0.82928897,  1.43312313,  1.11366961,\n",
       "         1.40535334,  0.76432645,  0.08871576,  0.83234488,  0.59973089,\n",
       "         1.41328124,  1.87025556,  1.13629425,  1.39124089,  0.55454016,\n",
       "         1.75492909,  0.25455845,  1.74311758,  0.96905966,  1.56413764,\n",
       "         1.4098864 ,  0.99046893,  0.29840292,  0.05555259,  1.99044073,\n",
       "         1.91765718,  0.53247196,  0.29013349,  0.96316352,  1.29701099,\n",
       "         1.94258317,  0.50578625,  1.59620838,  0.62139883,  0.16816475,\n",
       "         0.66967784,  1.6290925 ,  1.38039496,  0.03145606,  1.21246714,\n",
       "         1.13805564,  0.47297427,  1.72404521,  1.41897299,  1.1620639 ,\n",
       "         1.58308101,  0.79112735,  1.21274904,  0.92383908,  1.18451763,\n",
       "         0.96610126,  1.25619377,  1.6741739 ,  1.53804402,  1.75085996]])"
      ]
     },
     "execution_count": 5,
     "metadata": {},
     "output_type": "execute_result"
    }
   ],
   "source": [
    "X_b.T"
   ]
  },
  {
   "cell_type": "code",
   "execution_count": null,
   "metadata": {
    "collapsed": true
   },
   "outputs": [],
   "source": []
  }
 ],
 "metadata": {
  "kernelspec": {
   "display_name": "Python 2",
   "language": "python",
   "name": "python2"
  },
  "language_info": {
   "codemirror_mode": {
    "name": "ipython",
    "version": 2
   },
   "file_extension": ".py",
   "mimetype": "text/x-python",
   "name": "python",
   "nbconvert_exporter": "python",
   "pygments_lexer": "ipython2",
   "version": "2.7.13"
  }
 },
 "nbformat": 4,
 "nbformat_minor": 0
}
